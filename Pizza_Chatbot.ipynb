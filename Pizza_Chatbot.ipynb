{
  "nbformat": 4,
  "nbformat_minor": 0,
  "metadata": {
    "colab": {
      "provenance": [],
      "authorship_tag": "ABX9TyP1jXObubtFeIHZW4RkpUiZ",
      "include_colab_link": true
    },
    "kernelspec": {
      "name": "ir",
      "display_name": "R"
    },
    "language_info": {
      "name": "R"
    }
  },
  "cells": [
    {
      "cell_type": "markdown",
      "metadata": {
        "id": "view-in-github",
        "colab_type": "text"
      },
      "source": [
        "<a href=\"https://colab.research.google.com/github/mustarddo/worldofmud/blob/main/Pizza_Chatbot.ipynb\" target=\"_parent\"><img src=\"https://colab.research.google.com/assets/colab-badge.svg\" alt=\"Open In Colab\"/></a>"
      ]
    },
    {
      "cell_type": "markdown",
      "source": [
        "###**Pizza Chatbot** 🍕\n",
        "\n",
        "chat with bot that can receive and make order till deliver for you of *Frog Pizza House*\n",
        "\n",
        "function of pizzabot(functionname)\n",
        "\n",
        "\n",
        "*   Ask and remember user name\n",
        "\n",
        "*   Can select pizza type, crust, and quantity\n",
        "\n",
        "\n",
        "*   Confirm message what user typed\n",
        "\n",
        "*   Summarize total amount for customer\n",
        "\n",
        "*   Ask for delivery and need approve to confirm order\n",
        "\n",
        "\n",
        "\n"
      ],
      "metadata": {
        "id": "VO2TzZipBvq8"
      }
    },
    {
      "cell_type": "code",
      "source": [
        "pizzabot()"
      ],
      "metadata": {
        "id": "3yX2PqMDBvX4",
        "colab": {
          "base_uri": "https://localhost:8080/"
        },
        "outputId": "ea3e158f-b4c7-491b-e822-906dfe238427"
      },
      "execution_count": null,
      "outputs": [
        {
          "output_type": "stream",
          "name": "stderr",
          "text": [
            "🍕🐸🍕 Frog Pizza is here, Froggy is ready to get your special pizza 🍕🐸🍕\n",
            "\n"
          ]
        },
        {
          "name": "stdout",
          "output_type": "stream",
          "text": [
            "Can I have your name sir?: 5\n"
          ]
        },
        {
          "output_type": "stream",
          "name": "stderr",
          "text": [
            "okay,  5 , Here is our menus\n",
            "\n",
            "||||||||| MENU |||||||||| \n",
            "\n",
            "1 . Sausage Hawaiian\n",
            "\n",
            "2 . Hawaiian\n",
            "\n",
            "3 . Vegetarian Paradise\n",
            "\n",
            "4 . Bacon & The Black\n",
            "\n",
            "5 . Seafood Hawaiian\n",
            "\n",
            "||||||||||||||||||||||||| \n",
            "\n"
          ]
        },
        {
          "name": "stdout",
          "output_type": "stream",
          "text": [
            "So, What do you want for today? (select by number): 5\n"
          ]
        },
        {
          "output_type": "stream",
          "name": "stderr",
          "text": [
            "||||||||||||||||||||||||||| \n",
            "\n",
            "You selected => Seafood Hawaiian\n",
            "\n",
            "||||||||| Crust type |||||||||\n",
            "\n",
            "1 CLASSIC\n",
            "\n",
            "2 THIN & CRISPY\n",
            "\n",
            "3 CHEESE CRUST\n",
            "\n",
            "||||||||||||||||||||||||||| \n",
            "\n"
          ]
        },
        {
          "name": "stdout",
          "output_type": "stream",
          "text": [
            "What crust type do you want? (select by number): 2\n"
          ]
        },
        {
          "output_type": "stream",
          "name": "stderr",
          "text": [
            "I do agree on that\n",
            "\n",
            "||||||||||||||||||||||||||| \n",
            "\n",
            "You selected => THIN & CRISPY\n",
            "\n",
            "||||||||| Quantity |||||||||\n",
            "\n"
          ]
        },
        {
          "name": "stdout",
          "output_type": "stream",
          "text": [
            "So, How many do you want for this pizza? (fill number start form 1): 1\n"
          ]
        },
        {
          "output_type": "stream",
          "name": "stderr",
          "text": [
            "||||||||||||||||||||||||||| \n",
            "\n",
            "You selected =>  1\n",
            "\n",
            "||||||||||||||TOTAL AMOUNT|||||||||||| \n",
            "\n",
            "Okay, That will be  379  ฿\n",
            "\n",
            "||||||||||||||LOCATION for DELIVERY|||||||||||| \n",
            "\n"
          ]
        },
        {
          "name": "stdout",
          "output_type": "stream",
          "text": [
            "5 , Pls tell your location for sending pizza: London street\n"
          ]
        },
        {
          "output_type": "stream",
          "name": "stderr",
          "text": [
            "||||||||||||||||||||||||||| \n",
            "\n",
            "Please confirmed below location \n",
            "\n",
            "London street\n",
            "\n"
          ]
        },
        {
          "name": "stdout",
          "output_type": "stream",
          "text": [
            "Is it correct? (if yes pls answer 'yes' or 'y' only): y\n"
          ]
        },
        {
          "output_type": "stream",
          "name": "stderr",
          "text": [
            "||||||||||||||||||||||||||||||🍕🐸🍕|||||||||||||||||||||||||||||||\n",
            "\n",
            "|||||||||||||||||||||||🙏🙏🙏🙏🙏🙏🙏|||||||||||||||||||||||||||| \n",
            "\n",
            "Thanks  5 , for ordered with us, Have a wonderful day with lovely pizza from FROG PIZZA!!!\n",
            "\n",
            "|||||||||||||||||||||||🙏🙏🙏🙏🙏🙏🙏|||||||||||||||||||||||||||| \n",
            "\n",
            "||||||||||||||||||||||||||||||🍕🐸🍕|||||||||||||||||||||||||||||||\n",
            "\n"
          ]
        }
      ]
    },
    {
      "cell_type": "code",
      "execution_count": null,
      "metadata": {
        "id": "hOiu6UHsBe6H"
      },
      "outputs": [],
      "source": [
        "pizzabot <- function() {\n",
        "    ## variable part\n",
        "  pizza_id <- c(1,2,3,4,5)\n",
        "  pizza_type <- c(\"Sausage Hawaiian\", \"Hawaiian\",\"Vegetarian Paradise\",\n",
        "                  \"Bacon & The Black\", \"Seafood Hawaiian\")\n",
        "  price <- c(99, 99, 129, 365, 379)\n",
        "  pizza <- data.frame(pizza_id, pizza_type, price)\n",
        "  crust <- c(\"CLASSIC\", \"THIN & CRISPY\", \"CHEESE CRUST\" )\n",
        "  crust_price <- c(0, 0, 35)\n",
        "  size <- c(\"s\", \"m\", \"l\",\"extraspecial\")\n",
        "\n",
        "  ## pizzabot\n",
        "  message(\"🍕🐸🍕 Frog Pizza is here, Froggy is ready to get your special pizza 🍕🐸🍕\")\n",
        "  name <- toupper(readline(\"Can I have your name sir?: \"))\n",
        "  message(paste(\"okay, \", name, \", Here is our menus\"))\n",
        "  message(\"||||||||| MENU |||||||||| \")\n",
        "  message(paste(1,\".\", pizza$pizza_type[1]))\n",
        "  message(paste(2,\".\", pizza$pizza_type[2]))\n",
        "  message(paste(3,\".\", pizza$pizza_type[3]))\n",
        "  message(paste(4,\".\", pizza$pizza_type[4]))\n",
        "  message(paste(5,\".\", pizza$pizza_type[5]))\n",
        "  message(\"||||||||||||||||||||||||| \")\n",
        "\n",
        "  order_pizza <- as.numeric(readline(\"So, What do you want for today? (select by number): \"))\n",
        "\n",
        "   # loop for correct select pizza from number 1:5\n",
        "    while (order_pizza > 1) {\n",
        "      if (order_pizza >= 1 & order_pizza <= 5 )  {\n",
        "        break\n",
        "             }\n",
        "      order_pizza <- as.numeric(readline(paste(\"Sorry \", name , \", but could you repeat on that (pls select only 1-5): \")))\n",
        "        }\n",
        "   # tell what customer want\n",
        "message(\"||||||||||||||||||||||||||| \")\n",
        "message(paste(\"You selected =>\" , pizza_type[order_pizza]))\n",
        "\n",
        "\n",
        "\n",
        "  ## crust order\n",
        "\n",
        "  message(\"||||||||| Crust type |||||||||\")\n",
        "  message(paste(1, crust[1]))\n",
        "  message(paste(2, crust[2]))\n",
        "  message(paste(3, crust[3]))\n",
        "  message(\"||||||||||||||||||||||||||| \")\n",
        "  order_crust <- as.numeric(readline(\"What crust type do you want? (select by number): \"))  ## we use as.numeric because readline only return character\n",
        "\n",
        "   while (order_crust > 1) {\n",
        "      if (order_crust >= 1 & order_crust <= 3) {\n",
        "        message(\"I do agree on that\")\n",
        "        break\n",
        "             }\n",
        "    order_crust <- as.numeric(readline(paste(\"Sorry \", name , \", but could you repeat on that (pls select only 1-3): \")))\n",
        "      }\n",
        "   message(\"||||||||||||||||||||||||||| \")\n",
        "   message(\"You selected => \", crust[order_crust])\n",
        "\n",
        "  # Quantity\n",
        "  message(\"||||||||| Quantity |||||||||\")\n",
        "  order_quan <- as.numeric(readline(\"So, How many do you want for this pizza? (fill number start form 1): \"))\n",
        "\n",
        "   while (order_quan == 0 | order_quan < 0) {\n",
        "        if (order_quan >= 1) {\n",
        "          message(\"hi\")\n",
        "          break\n",
        "      }\n",
        "\n",
        "      order_quan <- readline(\"again: \")\n",
        "    }\n",
        "\n",
        "  message(\"||||||||||||||||||||||||||| \")\n",
        "  message(paste(\"You selected => \", order_quan))\n",
        "\n",
        "  # calculate\n",
        "  message(\"||||||||||||||TOTAL AMOUNT|||||||||||| \")\n",
        "  total <- (price[order_pizza] + crust_price[order_crust]) * order_quan\n",
        "  message(paste(\"Okay, That will be \", total, \" ฿\")) # calculate total amount\n",
        "  message(\"||||||||||||||LOCATION for DELIVERY|||||||||||| \")\n",
        "  loc <- readline(paste(name, \", Pls tell your location for sending pizza: \"))\n",
        "  message(\"||||||||||||||||||||||||||| \")\n",
        "  message(\"Please confirmed below location \")\n",
        "  message(loc)\n",
        "\n",
        "  correct <- readline(\"Is it correct? (if yes pls answer 'yes' or 'y' only): \")\n",
        "    while (correct != \"yes\" | correct != \"y\" ) {\n",
        "        if (correct == \"yes\" | correct == \"y\" ) {\n",
        "            break\n",
        "        }\n",
        "        loc <- readline(paste(name, \", Pls tell your location for sending pizza: \"))\n",
        "        message(\"||||||||||||||||||||||||||| \")\n",
        "        message(loc)\n",
        "        correct <- readline(\"Is it correct? (if yes pls answer 'yes' or 'y' only): \")\n",
        "    }\n",
        "    message(\"||||||||||||||||||||||||||||||🍕🐸🍕|||||||||||||||||||||||||||||||\")\n",
        "    message(\"|||||||||||||||||||||||🙏🙏🙏🙏🙏🙏🙏|||||||||||||||||||||||||||| \")\n",
        "    message(paste(\"Thanks \", name ,\", for ordered with us, Have a wonderful day with lovely pizza from FROG PIZZA!!!\"))\n",
        "    message(\"|||||||||||||||||||||||🙏🙏🙏🙏🙏🙏🙏|||||||||||||||||||||||||||| \")\n",
        "    message(\"||||||||||||||||||||||||||||||🍕🐸🍕|||||||||||||||||||||||||||||||\")\n",
        "}\n",
        "\n",
        "\n",
        "\n",
        "\n",
        "\n",
        "\n"
      ]
    },
    {
      "cell_type": "code",
      "source": [
        "## Key I Learned\n",
        "\n",
        "   if (order_pizza == 1) {\n",
        "      message(pizza_type[1])\n",
        "      } else if (order_pizza == 2) {\n",
        "        message(pizza_type[2])\n",
        "        } else if (order_pizza == 3) {\n",
        "         message(pizza_type[3])\n",
        "         } else if (order_pizza == 4) {\n",
        "          message(pizza_type[4])\n",
        "          } else if (order_pizza == 5) {\n",
        "            message(pizza_type[5])\n",
        "            } -> order_pizzatype;\n",
        "\n",
        "## 1. is the same thing as\n",
        "pizza_type[order_pizza]\n",
        "\n",
        "## 2.Readline only return character\n",
        "# we use as.numeric because readline only return character\n",
        "# if we don't use, we cannot use aggregate function on that variable\n",
        "order_crust <- as.numeric(readline(\"What crust type do you want?: \"))"
      ],
      "metadata": {
        "id": "XFtBtjwkHLmF"
      },
      "execution_count": null,
      "outputs": []
    },
    {
      "cell_type": "code",
      "source": [
        "ls()"
      ],
      "metadata": {
        "colab": {
          "base_uri": "https://localhost:8080/",
          "height": 34
        },
        "id": "TfRkPbw3FGIF",
        "outputId": "2f631c1e-d3ca-416f-80a0-da19bc0e459b"
      },
      "execution_count": null,
      "outputs": [
        {
          "output_type": "display_data",
          "data": {
            "text/html": [
              "<style>\n",
              ".list-inline {list-style: none; margin:0; padding: 0}\n",
              ".list-inline>li {display: inline-block}\n",
              ".list-inline>li:not(:last-child)::after {content: \"\\00b7\"; padding: 0 .5ex}\n",
              "</style>\n",
              "<ol class=list-inline><li>'crust'</li><li>'name'</li><li>'order_crust'</li><li>'order_pizza'</li><li>'order_pizzatype'</li><li>'order_quan'</li><li>'pizza'</li><li>'pizza_id'</li><li>'pizza_type'</li><li>'price'</li><li>'size'</li><li>'sum'</li></ol>\n"
            ],
            "text/markdown": "1. 'crust'\n2. 'name'\n3. 'order_crust'\n4. 'order_pizza'\n5. 'order_pizzatype'\n6. 'order_quan'\n7. 'pizza'\n8. 'pizza_id'\n9. 'pizza_type'\n10. 'price'\n11. 'size'\n12. 'sum'\n\n\n",
            "text/latex": "\\begin{enumerate*}\n\\item 'crust'\n\\item 'name'\n\\item 'order\\_crust'\n\\item 'order\\_pizza'\n\\item 'order\\_pizzatype'\n\\item 'order\\_quan'\n\\item 'pizza'\n\\item 'pizza\\_id'\n\\item 'pizza\\_type'\n\\item 'price'\n\\item 'size'\n\\item 'sum'\n\\end{enumerate*}\n",
            "text/plain": [
              " [1] \"crust\"           \"name\"            \"order_crust\"     \"order_pizza\"    \n",
              " [5] \"order_pizzatype\" \"order_quan\"      \"pizza\"           \"pizza_id\"       \n",
              " [9] \"pizza_type\"      \"price\"           \"size\"            \"sum\"            "
            ]
          },
          "metadata": {}
        }
      ]
    }
  ]
}