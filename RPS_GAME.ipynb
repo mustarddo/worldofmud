{
  "nbformat": 4,
  "nbformat_minor": 0,
  "metadata": {
    "colab": {
      "provenance": [],
      "authorship_tag": "ABX9TyMCeFPGRmxRHWsmYeZ2NCxQ",
      "include_colab_link": true
    },
    "kernelspec": {
      "name": "ir",
      "display_name": "R"
    },
    "language_info": {
      "name": "R"
    }
  },
  "cells": [
    {
      "cell_type": "markdown",
      "metadata": {
        "id": "view-in-github",
        "colab_type": "text"
      },
      "source": [
        "<a href=\"https://colab.research.google.com/github/mustarddo/worldofmud/blob/main/RPS_GAME.ipynb\" target=\"_parent\"><img src=\"https://colab.research.google.com/assets/colab-badge.svg\" alt=\"Open In Colab\"/></a>"
      ]
    },
    {
      "cell_type": "markdown",
      "source": [
        "## **Rock Paper Scissor game**\n",
        "challege with bot in **bo3**, and let's see the winner !🏆\n",
        "\n",
        "**function** of gamerps (functionname)\n",
        "\n",
        "*   ask and remember username\n",
        "*   decline not in condition value (loop)\n",
        "*   can stop in middle of the game\n",
        "*   update score every round\n",
        "*   summarize scores\n",
        "*   declare the winner & loser\n",
        "\n",
        "\n"
      ],
      "metadata": {
        "id": "Hwumlp-0_yVj"
      }
    },
    {
      "cell_type": "code",
      "source": [
        "gamerps()"
      ],
      "metadata": {
        "id": "xt9YmlsL-32v"
      },
      "execution_count": null,
      "outputs": []
    },
    {
      "cell_type": "code",
      "source": [
        "### Rock Paper Scissor Game programming\n",
        "\n",
        "\n",
        "gamerps <- function() {\n",
        "\n",
        "  message(\"|||||||||||  👊 🖐️ ✌ ROCK PAPER SCISSOR  👊 🖐️ ✌ ||||||||||\")\n",
        "  message(\"Greetings, This is Rock Paper Scissor game\")\n",
        "  username <- toupper(readline(\"Before we start, What Can I call you?: \"))\n",
        "  message(paste(\"Okay, '\", username, \"', you and me will challenge together and lets see who will win\"))\n",
        "  message(\"|||||||||||||||||||||||||||||||||||||||| RULES. |||||||||||||||||||||||||||||||||||||||||||||||||||||||||\")\n",
        "  message(\"1. Type 'rock' or 'r' for 👊, 'paper' or 'p' for 🖐️ and 'scissor' or 's' for ✌ \")\n",
        "  message(\"2. Whenever you feel enough just type 'enough', then we will finish and summarize scores\")\n",
        "\n",
        "  start_condition <- readline(\"Wanna start now?: \")\n",
        "\n",
        "  user_score <- 0\n",
        "  bot_score <- 0\n",
        "\n",
        "  # RPS game looping until user or bot meet 3 points\n",
        "  while (user_score <3 & bot_score <3 ) {\n",
        "    flush.console()\n",
        "    hands <- c(\"🖐️\", \"👊\", \"✌\")\n",
        "    user_hand <- readline(\"your turn:\")\n",
        "    bot_hand <- sample(hands, 1)\n",
        "    if (user_hand == \"enough\") {\n",
        "      message(paste(\"Okay, \", username, \"Let's sum\"))\n",
        "      break\n",
        "        }\n",
        "    if(user_hand == \"rock\" | user_hand == \"r\"  & bot_hand == \"✌\") {\n",
        "      print(paste(username, \"  👊  🆚  ✌  bot\"))\n",
        "      print(\"You won!!! \")\n",
        "      user_score <- user_score + 1\n",
        "      message(paste(username, \"score: => \", user_score))\n",
        "      message(paste(\"bot score: => \", bot_score))\n",
        "        } else if (user_hand == \"rock\" | user_hand == \"r\" & bot_hand == \"👊\") {\n",
        "        print(paste(username, \"  👊  🆚  👊  bot\"))\n",
        "        print(\"draw, let's try again\")\n",
        "        message(paste(username, \"score: => \", user_score))\n",
        "        message(paste(\"bot score: => \", bot_score))\n",
        "        } else if (user_hand == \"rock\" | user_hand == \"r\" & bot_hand == \"🖐️\" ) {\n",
        "          print(paste(username, \"  👊  🆚  🖐️  bot\"))\n",
        "          print(\"You losed, Bot wins\")\n",
        "          bot_score <- bot_score + 1\n",
        "          message(paste(username, \"score: => \", user_score))\n",
        "          message(paste(\"bot score: => \", bot_score))\n",
        "            } else if (user_hand == \"paper\" | user_hand == \"p\" & bot_hand == \"👊\") {\n",
        "              print(paste(username, \"  🖐️  🆚  👊  bot\"))\n",
        "              print(\"You won!!!\")\n",
        "              user_score <- user_score + 1\n",
        "              message(paste(username, \"score: => \", user_score))\n",
        "              message(paste(\"bot score: => \", bot_score))\n",
        "            } else if (user_hand == \"paper\" | user_hand == \"p\" & bot_hand == \"🖐️\") {\n",
        "              print(paste(username, \"  🖐️  🆚  🖐️  bot\"))\n",
        "              print(\"draw, let's try again\")\n",
        "              message(paste(username, \"score: => \", user_score))\n",
        "              message(paste(\"bot score: => \", bot_score))\n",
        "            } else if (user_hand == \"paper\" | user_hand == \"p\" & bot_hand == \"✌\") {\n",
        "              print(paste(username, \"  🖐️  🆚  ✌  bot\"))\n",
        "              print(\"You losed, Bot wins\")\n",
        "              bot_score <- bot_score + 1\n",
        "              message(paste(username, \"score: => \", user_score))\n",
        "              message(paste(\"bot score: => \", bot_score))\n",
        "              } else if (user_hand == \"scissor\" | user_hand == \"s\" & bot_hand == \"🖐️\") {\n",
        "              print(paste(username, \"  ✌  🆚  🖐️  bot\"))\n",
        "              print(\"You won!!!\")\n",
        "              user_score <- user_score + 1\n",
        "              message(paste(username, \"score: => \", user_score))\n",
        "              message(paste(\"bot score: => \", bot_score))\n",
        "              } else if (user_hand == \"scissor\" | user_hand == \"s\" & bot_hand == \"✌\") {\n",
        "              print(paste(username, \"  ✌  🆚  ✌  bot\"))\n",
        "              print(\"draw, let's try again\")\n",
        "              message(paste(username, \"score: => \", user_score))\n",
        "              message(paste(\"bot score: => \", bot_score))\n",
        "              } else if (user_hand == \"scissor\" | user_hand == \"s\" & bot_hand == \"👊\") {\n",
        "                print(paste(username, \"  ✌  🆚  👊  bot\"))\n",
        "                print(\"You losed, Bot wins\")\n",
        "                bot_score <- bot_score + 1\n",
        "                message(paste(username, \"score: => \", user_score))\n",
        "                message(paste(\"bot score: => \", bot_score))\n",
        "              } else print(\"I don't understand, Could you type again\")\n",
        "                  if (user_score == 3 ) {\n",
        "                  message(\"|||||||||||||||||||||||||||||||||||||\")\n",
        "                  print(\"🎉 You won this game 🎉!!\")\n",
        "                  break\n",
        "                  }\n",
        "                  if (bot_score == 3) {\n",
        "                  message(\"|||||||||||||||||||||||||||||||||||||\")\n",
        "                  print(\"😭 You lose this game 😭!!\")\n",
        "                  break\n",
        "                  }\n",
        "\n",
        "  }\n",
        "  ### summarize score & declare winner\n",
        "    if (user_score == 3) { user_rank <- \"🏆 \"} else { user_rank <- \"\"}\n",
        "    if (bot_score == 3) { bot_rank <- \"🏆 \"}  else { bot_rank <- \"\"}\n",
        "    message(paste(\"Thx for playing with me 🤝\", username))\n",
        "    message(paste(username, user_rank, \"score: => \", user_score, \"  \"))\n",
        "    message(paste(\"bot\",  bot_rank, \"score: => \", bot_score,\"  \"))\n",
        "    message(\"|||||||||||||||||||||||||||||||||||||\")\n",
        "}"
      ],
      "metadata": {
        "id": "vKnYTUic-bYp"
      },
      "execution_count": null,
      "outputs": []
    }
  ]
}